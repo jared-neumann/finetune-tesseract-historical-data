{
 "cells": [
  {
   "cell_type": "code",
   "execution_count": 17,
   "metadata": {},
   "outputs": [],
   "source": [
    "import os\n",
    "import cv2\n",
    "import xml.etree.ElementTree as ET\n",
    "from PIL import Image"
   ]
  },
  {
   "cell_type": "code",
   "execution_count": 18,
   "metadata": {},
   "outputs": [],
   "source": [
    "import os\n",
    "import cv2\n",
    "import xml.etree.ElementTree as ET\n",
    "from PIL import Image\n",
    "\n",
    "def extract_text_from_image(min_page_number=0):\n",
    "\n",
    "    input_image_folder = '../data/images/input_image/'\n",
    "    input_xml_folder = '../data/images/input_xml/'\n",
    "    output_image_folder = '../data/images/output/images/'\n",
    "    output_label_folder = '../data/images/output/labels/'\n",
    "\n",
    "    if not os.path.exists(output_image_folder):\n",
    "        os.makedirs(output_image_folder)\n",
    "\n",
    "    if not os.path.exists(output_label_folder):\n",
    "        os.makedirs(output_label_folder)\n",
    "\n",
    "    for xml_file in os.listdir(input_xml_folder):\n",
    "        if xml_file.endswith('.xml'):\n",
    "            tree = ET.parse(os.path.join(input_xml_folder, xml_file))\n",
    "            root = tree.getroot()\n",
    "            img_name = root.find('filename').text\n",
    "\n",
    "            # Extract page number from the filename\n",
    "            try:\n",
    "                file_name_root, ext = os.path.splitext(img_name)\n",
    "                page_number = int(file_name_root.split(\"_\")[2])\n",
    "            except (IndexError, ValueError):\n",
    "                print(f\"Unable to extract page number from {img_name}. Skipping this file.\")\n",
    "                continue\n",
    "\n",
    "            if page_number <= min_page_number:\n",
    "                continue\n",
    "\n",
    "            img_path = os.path.join(input_image_folder, img_name)\n",
    "            img = cv2.imread(img_path)\n",
    "\n",
    "            count = 0\n",
    "\n",
    "            for obj in root.iter('object'):\n",
    "                label = obj.find('name').text\n",
    "                bndbox = obj.find('bndbox')\n",
    "                xmin = int(bndbox.find('xmin').text)\n",
    "                ymin = int(bndbox.find('ymin').text)\n",
    "                xmax = int(bndbox.find('xmax').text)\n",
    "                ymax = int(bndbox.find('ymax').text)\n",
    "\n",
    "                cropped_img = img[ymin:ymax, xmin:xmax]\n",
    "\n",
    "                base_name = os.path.splitext(img_name)[0]\n",
    "\n",
    "                cropped_img_name = f\"{base_name}_{count}.tiff\"  # Save as TIFF\n",
    "                cropped_img_path = os.path.join(output_image_folder, cropped_img_name)\n",
    "                if os.path.exists(cropped_img_path):\n",
    "                    pass\n",
    "                else:\n",
    "                    cv2.imwrite(os.path.join(cropped_img_path), cropped_img)\n",
    "\n",
    "                # Save ground truth text file\n",
    "                gt_text_filename = f\"{base_name}_{count}.gt.txt\"\n",
    "\n",
    "                gt_text_filepath = os.path.join(output_label_folder, gt_text_filename)\n",
    "                if os.path.exists(gt_text_filepath):\n",
    "                    pass\n",
    "                else:\n",
    "                    with open(os.path.join(gt_text_filepath), 'w', encoding='utf-8') as gt_file:\n",
    "                        gt_file.write(label)\n",
    "\n",
    "                count += 1\n",
    "                \n",
    "                \n"
   ]
  },
  {
   "cell_type": "code",
   "execution_count": 19,
   "metadata": {},
   "outputs": [],
   "source": [
    "extract_text_from_image(12)"
   ]
  }
 ],
 "metadata": {
  "kernelspec": {
   "display_name": "venv",
   "language": "python",
   "name": "python3"
  },
  "language_info": {
   "codemirror_mode": {
    "name": "ipython",
    "version": 3
   },
   "file_extension": ".py",
   "mimetype": "text/x-python",
   "name": "python",
   "nbconvert_exporter": "python",
   "pygments_lexer": "ipython3",
   "version": "3.8.10"
  },
  "orig_nbformat": 4
 },
 "nbformat": 4,
 "nbformat_minor": 2
}
